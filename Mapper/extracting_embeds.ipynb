{
 "cells": [
  {
   "cell_type": "code",
   "execution_count": null,
   "metadata": {},
   "outputs": [],
   "source": [
    "import sqlite3\n",
    "import pandas as pd\n",
    "import json\n",
    "from sentence_transformers import SentenceTransformer, util\n",
    "import torch"
   ]
  },
  {
   "cell_type": "code",
   "execution_count": null,
   "metadata": {},
   "outputs": [],
   "source": [
    "# Подключение к SQLite базе данных\n",
    "conn = sqlite3.connect('/repo/converted_database.db')\n",
    "\n",
    "# Загрузка данных из таблицы OKPD_2\n",
    "query = \"SELECT OKPD2, OKPD2_NAME FROM OKPD_2\"\n",
    "okpd2_data = pd.read_sql_query(query, conn)\n",
    "conn.close()\n",
    "\n",
    "# Загрузка дерева категорий из JSON файла\n",
    "with open('/repo/category_tree.json', 'r') as f:\n",
    "    market_data = json.load(f)"
   ]
  },
  {
   "cell_type": "code",
   "execution_count": null,
   "metadata": {},
   "outputs": [],
   "source": [
    "def extract_categories(data, parent_names=None):\n",
    "    \"\"\"\n",
    "    Рекурсивная функция для извлечения категорий и их идентификаторов из \n",
    "    иерархической структуры JSON.\n",
    "\n",
    "    Args:\n",
    "        data (dict): Данные JSON с информацией о категориях.\n",
    "        parent_names (list, optional): Список названий родительских категорий.\n",
    "\n",
    "    Returns:\n",
    "        list: Список словарей, содержащих информацию о категориях.\n",
    "    \"\"\"\n",
    "    records = []\n",
    "    if parent_names is None:\n",
    "        parent_names = []\n",
    "    \n",
    "    # Проверяем наличие дочерних категорий\n",
    "    if 'children' in data:\n",
    "        for child in data['children']:\n",
    "            new_parent_names = parent_names + [data['name']]\n",
    "            records.extend(extract_categories(child, new_parent_names))\n",
    "    else:\n",
    "        # Сохраняем информацию о категории\n",
    "        category_record = {'type_name': data['name'], 'type_id': data['id']}\n",
    "        for i, parent_name in enumerate(parent_names):\n",
    "            category_record[f'level_{i+1}_category'] = parent_name\n",
    "        records.append(category_record)\n",
    "    \n",
    "    return records"
   ]
  },
  {
   "cell_type": "code",
   "execution_count": null,
   "metadata": {},
   "outputs": [],
   "source": [
    "# Извлечение записей категорий из JSON\n",
    "market_records = extract_categories(market_data['result'])\n",
    "market_df = pd.DataFrame(amrket_records)\n",
    "\n",
    "# Загрузка предобученной модели для преобразования предложений в векторы\n",
    "model = SentenceTransformer('deepvk/USER-bge-m3').to('cuda')\n",
    "\n",
    "# Получение названий из данных OKPD2 и Market\n",
    "okpd2_names = okpd2_data['OKPD2_NAME'].tolist()\n",
    "market_names = market_df['type_name'].tolist()\n",
    "\n",
    "# Преобразование названий в векторы с использованием модели\n",
    "okpd2_embeddings = model.encode(okpd2_names, convert_to_tensor=True, device='cuda')\n",
    "market_embeddings = model.encode(market_names, convert_to_tensor=True, device='cuda')\n",
    "\n",
    "# Вычисление косинусного сходства между векторами\n",
    "cosine_scores = util.pytorch_cos_sim(okpd2_embeddings, market_embeddings)\n",
    "\n",
    "# Нахождение лучших совпадений на основе косинусного сходства\n",
    "best_matches_cosine = []\n",
    "similarity_scores = []"
   ]
  },
  {
   "cell_type": "code",
   "execution_count": null,
   "metadata": {},
   "outputs": [],
   "source": [
    "for i in range(len(okpd2_names)):\n",
    "    best_index = cosine_scores[i].argmax()\n",
    "    best_matches_cosine.append(market_names[best_index])\n",
    "    similarity_scores.append(cosine_scores[i][best_index].item())\n",
    "\n",
    "# Добавление результатов в DataFrame\n",
    "okpd2_data['best_match'] = best_matches_cosine\n",
    "okpd2_data['cosine_similarity'] = similarity_scores\n",
    "\n",
    "# Объединение данных OKPD2 с соответствующими категориями Yandex Market\n",
    "columns_to_merge = ['type_name'] + [col for col in market_df.columns if 'level_' in col]\n",
    "result_df = okpd2_data.merge(market_df[columns_to_merge], \n",
    "                              left_on='best_match', \n",
    "                              right_on='type_name', \n",
    "                              how='left')\n",
    "\n",
    "# Сохранение результатов в новый CSV файл\n",
    "output_file = '/repo/okpd2_best_matches.csv'\n",
    "columns_to_save = ['OKPD2', 'OKPD2_NAME'] + [col for col in result_df.columns if 'level_' in col] + ['best_match', 'cosine_similarity']\n",
    "result_df[columns_to_save].to_csv(output_file, index=False, encoding='utf-8-sig')\n",
    "\n",
    "print(f\"Результаты сохранены в {output_file}\")"
   ]
  }
 ],
 "metadata": {
  "language_info": {
   "name": "python"
  }
 },
 "nbformat": 4,
 "nbformat_minor": 2
}
